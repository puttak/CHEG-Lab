{
 "cells": [
  {
   "cell_type": "markdown",
   "metadata": {},
   "source": [
    "### Pipe Flow - Determination of Gate Valve Openness\n",
    "Maura Vrabel\n",
    "4/23/17"
   ]
  },
  {
   "cell_type": "markdown",
   "metadata": {},
   "source": [
    "Procedure for finding relative openness of gate valve:\n",
    "1. Resize pictures in paint so that valve diameters are equal in pixel length \n",
    "2. Delineate gate circle from valve circle\n",
    "3. Draw radii for each circle (both circle have same radius length R)\n",
    "4. Find distance (C) between the centers\n",
    "5. Plug into area of lune equation from http://mathworld.wolfram.com/Lune.html, where a = b\n",
    "6. Take ratio of lune area to fully open area (Atot)\n",
    "\n",
    "\n",
    "![pic](Gate_Valve_Openings.png)\n",
    "$$Half Open\\quad 1/4 Open\\quad 1/8 Open\\quad Nearly Closed $$\n",
    "Online Calculator Used to check equation: https://rechneronline.de/pi/lune.php\n",
    "\\end{document}"
   ]
  },
  {
   "cell_type": "code",
   "execution_count": 24,
   "metadata": {
    "collapsed": true
   },
   "outputs": [],
   "source": [
    "%matplotlib inline\n",
    "\n",
    "import numpy as np\n",
    "import matplotlib.pyplot as plt"
   ]
  },
  {
   "cell_type": "code",
   "execution_count": 30,
   "metadata": {
    "collapsed": false
   },
   "outputs": [],
   "source": [
    "# Define variables\n",
    "R = 31                               # radius (pixels)\n",
    "C = [2*R-1, 22, 10, 4, 1,0.001]\n",
    "c = [2*R-1,2, 1, 0.01]\n",
    "Atot = np.pi*R**2\n",
    "\n",
    "delta = np.empty([len(C),1])\n",
    "delc = np.empty([len(c),1])\n",
    "\n",
    "A = np.empty([len(C),1])\n",
    "Ac = np.empty([len(c),1])\n",
    "\n",
    "for i in range(len(C)):\n",
    "    delta[i] = C[i]/4*np.sqrt((2*R+C[i])*(2*R-C[i]))\n",
    "    A[i] = R**2*(np.arctan(C[i]**2/4/delta[i]) + np.arccos((R-C[i])/R )+ np.arctan((R-C[i])/np.sqrt((2*R-C[i])*C[i]))\n",
    "                 - np.arctan(-C[i]**2/4/delta[i])+np.pi/2) +2*delta[i]\n",
    "   \n",
    "    #A[i] = a**2*(np.arctan((a**2-b**2+C[i]**2)/4/delta[i])+np.arccos((b-C[i])/a)+np.arctan((b-C[i])/np.sqrt((a+b-C[i])*(a-b+C[i])))) - b**2*(np.arctan((a**2-b**2-C[i]**2)/4/delta[i])+np.pi/2) + 2*delta[i]\n",
    "    #delc[i] = c[i]/4*np.sqrt((2*R+c[i])*(2*R-c[i]))\n",
    "    #Ac[i] = R**2*(np.arctan(c[i]**2/4/delc[i]) + np.arccos((R-c[i])/R )+ np.arctan((R-c[i])/np.sqrt((2*R-c[i])*c[i]))\n",
    "               #   - np.arctan(c[i]**2/4/delc[i])+np.pi/2) +2*delc[i]"
   ]
  },
  {
   "cell_type": "code",
   "execution_count": 31,
   "metadata": {
    "collapsed": false
   },
   "outputs": [
    {
     "name": "stdout",
     "output_type": "stream",
     "text": [
      "[[ 0.99752649]\n",
      " [ 0.44210555]\n",
      " [ 0.20444678]\n",
      " [ 0.08206693]\n",
      " [ 0.0205147 ]\n",
      " [ 0.        ]]\n"
     ]
    },
    {
     "data": {
      "image/png": "[encoded data removed]",
      "text/plain": [
       "<matplotlib.figure.Figure at 0x125630a198>"
      ]
     },
     "metadata": {},
     "output_type": "display_data"
    }
   ],
   "source": [
    "x = (A-A[5])/Atot\n",
    "plt.plot(C,x)\n",
    "print(x)"
   ]
  },
  {
   "cell_type": "code",
   "execution_count": 28,
   "metadata": {
    "collapsed": false
   },
   "outputs": [
    {
     "name": "stdout",
     "output_type": "stream",
     "text": [
      "The relative area ratios unscaled\n",
      " [[ 0.99997946]\n",
      " [ 0.44210555]\n",
      " [ 0.20444678]\n",
      " [ 0.08206693]\n",
      " [ 0.0205147 ]\n",
      " [ 0.        ]] \n",
      "\n"
     ]
    }
   ],
   "source": [
    "ratio = x\n",
    "print('The relative area ratios unscaled\\n', ratio,'\\n')\n"
   ]
  },
  {
   "cell_type": "code",
   "execution_count": null,
   "metadata": {
    "collapsed": true
   },
   "outputs": [],
   "source": []
  }
 ],
 "metadata": {
  "anaconda-cloud": {},
  "kernelspec": {
   "display_name": "Python [conda root]",
   "language": "python",
   "name": "conda-root-py"
  },
  "language_info": {
   "codemirror_mode": {
    "name": "ipython",
    "version": 3
   },
   "file_extension": ".py",
   "mimetype": "text/x-python",
   "name": "python",
   "nbconvert_exporter": "python",
   "pygments_lexer": "ipython3",
   "version": "3.5.2"
  }
 },
 "nbformat": 4,
 "nbformat_minor": 1
}
